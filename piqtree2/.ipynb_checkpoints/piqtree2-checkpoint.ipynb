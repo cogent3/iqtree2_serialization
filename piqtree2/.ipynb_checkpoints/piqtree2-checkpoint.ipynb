{
 "cells": [
  {
   "cell_type": "markdown",
   "metadata": {},
   "source": [
    "Load piqtree2 python library"
   ]
  },
  {
   "cell_type": "code",
   "execution_count": 1,
   "metadata": {},
   "outputs": [
    {
     "ename": "ImportError",
     "evalue": "/iqtree2/piqtree2/libs/iqtree2core.so: undefined symbol: _ZNK6Params7to_jsonB5cxx11Ev",
     "output_type": "error",
     "traceback": [
      "\u001b[0;31m---------------------------------------------------------------------------\u001b[0m",
      "\u001b[0;31mImportError\u001b[0m                               Traceback (most recent call last)",
      "\u001b[1;32m/iqtree2/piqtree2/piqtree2.ipynb Cell 2\u001b[0m line \u001b[0;36m1\n\u001b[0;32m----> <a href='vscode-notebook-cell://attached-container%2B7b22636f6e7461696e65724e616d65223a222f7069717472656532227d/iqtree2/piqtree2/piqtree2.ipynb#W0sdnNjb2RlLXJlbW90ZQ%3D%3D?line=0'>1</a>\u001b[0m \u001b[39mimport\u001b[39;00m \u001b[39mpiqtree2\u001b[39;00m\n",
      "File \u001b[0;32m/iqtree2/piqtree2/piqtree2/__init__.py:14\u001b[0m\n\u001b[1;32m     11\u001b[0m     sys\u001b[39m.\u001b[39mpath\u001b[39m.\u001b[39minsert(\u001b[39m0\u001b[39m, libs_dir)\n\u001b[1;32m     13\u001b[0m \u001b[39m# Now we can import the shared library in libs\u001b[39;00m\n\u001b[0;32m---> 14\u001b[0m \u001b[39mimport\u001b[39;00m \u001b[39miqtree2core\u001b[39;00m\n",
      "\u001b[0;31mImportError\u001b[0m: /iqtree2/piqtree2/libs/iqtree2core.so: undefined symbol: _ZNK6Params7to_jsonB5cxx11Ev"
     ]
    }
   ],
   "source": [
    "import piqtree2"
   ]
  },
  {
   "cell_type": "markdown",
   "metadata": {},
   "source": [
    "Get version"
   ]
  }
 ],
 "metadata": {
  "kernelspec": {
   "display_name": "Python 3 (ipykernel)",
   "language": "python",
   "name": "python3"
  },
  "language_info": {
   "codemirror_mode": {
    "name": "ipython",
    "version": 3
   },
   "file_extension": ".py",
   "mimetype": "text/x-python",
   "name": "python",
   "nbconvert_exporter": "python",
   "pygments_lexer": "ipython3",
   "version": "3.11.2"
  }
 },
 "nbformat": 4,
 "nbformat_minor": 2
}
